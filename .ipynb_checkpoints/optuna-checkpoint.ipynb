{
 "cells": [
  {
   "cell_type": "code",
   "execution_count": null,
   "id": "a991f97e-fde9-4722-9d45-045a1093f482",
   "metadata": {},
   "outputs": [],
   "source": [
    "import pandas as pd\n",
    "import numpy as np\n",
    "from sklearn import preprocessing\n",
    "from sklearn.model_selection import train_test_split\n",
    "from sklearn.ensemble import RandomForestRegressor\n",
    "from sklearn.metrics import mean_squared_error\n",
    "from xgboost import XGBRegressor\n",
    "import optuna"
   ]
  },
  {
   "cell_type": "code",
   "execution_count": null,
   "id": "56e650ec-1453-4757-bfb4-02d8d37d13f0",
   "metadata": {},
   "outputs": [],
   "source": [
    "useful_features = [c for c in df.columns if c not in (\"id\", \"target\", \"kfold\")]\n",
    "object_cols = [col for col in useful_features if col.startswith('cat')]\n",
    "df_test = df_test[useful_features]"
   ]
  },
  {
   "cell_type": "code",
   "execution_count": null,
   "id": "3b7a5b3a-c12a-4f2a-a7ad-cf3384c330cc",
   "metadata": {},
   "outputs": [],
   "source": [
    "# xtrain xvalid を作成して、xgbを使用する関数を作成\n",
    "def run(trial):\n",
    "    scores = []\n",
    "    fold = 0\n",
    "    \n",
    "    #　params生成\n",
    "    learning_rate = trial.suggest_float('learning_rate', 1e-2, 0.25, log=True)\n",
    "    reg_lambda = trial.suggest_loguniform('reg_lambda', 1e-8, 100)\n",
    "    reg_alpha = trial.suggest_loguniform('reg_alpha', 1e-8, 100)\n",
    "    subsample = trial.suggest_float('subsample', 0.1, 1.0)\n",
    "    colsample_bytree = trial.suggest_float('colsample_bytree', 0.1, 1.0)\n",
    "    max_depth = trial.suggest_int('max_depth', 1, 7)\n",
    "\n",
    "    xtrain =  df[df.kfold != fold].reset_index(drop=True)\n",
    "    xvalid = df[df.kfold == fold].reset_index(drop=True)\n",
    "\n",
    "    ytrain = xtrain.target\n",
    "    yvalid = xvalid.target\n",
    "\n",
    "    xtrain = xtrain[useful_features]\n",
    "    xvalid = xvalid[useful_features]\n",
    "\n",
    "    ordinal_encoder = preprocessing.OrdinalEncoder()\n",
    "    xtrain[object_cols] = ordinal_encoder.fit_transform(xtrain[object_cols])\n",
    "    xvalid[object_cols] = ordinal_encoder.transform(xvalid[object_cols])\n",
    "\n",
    "    model = XGBRegressor(random_state=42,\n",
    "                        tree_method='gpu_hist',\n",
    "                        gpu_id=1,\n",
    "                        predictor='gpu_predictor',\n",
    "                        n_estimator=7000,\n",
    "                        learning_rate=learning_rate,\n",
    "                        reg_lambda=reg_lambda,\n",
    "                        reg_alpha=reg_alpha,\n",
    "                        subsample=subsample,\n",
    "                        colsample_bytree=colsample_bytree,\n",
    "                        max_depth=max_depth,\n",
    "                        )\n",
    "    model.fit(xtrain, ytrain, early_stopping_rounds=300, eval_set=[(xvalid, yvalid)], verbose=1000)\n",
    "    preds_valid = model.predict(xvalid)\n",
    "#         test_preds = model.predict(xtest)\n",
    "    rmse = mean_squared_error(yvalid, preds_valid, squared=False)\n",
    "    return rmse"
   ]
  },
  {
   "cell_type": "code",
   "execution_count": null,
   "id": "32ca5245-6ee7-4c5c-9aa2-967480fc1a8e",
   "metadata": {},
   "outputs": [],
   "source": [
    "# 最適なparamsの探索\n",
    "study = optuna.create_study(direction='minimize')\n",
    "study.optimize(run, n_trials=5)"
   ]
  },
  {
   "cell_type": "code",
   "execution_count": null,
   "id": "c12b5321-4b8c-44be-83e0-d0fde741b70f",
   "metadata": {},
   "outputs": [],
   "source": [
    "# 探索結果の表示\n",
    "study.best_params"
   ]
  }
 ],
 "metadata": {
  "kernelspec": {
   "display_name": "Python 3",
   "language": "python",
   "name": "python3"
  },
  "language_info": {
   "codemirror_mode": {
    "name": "ipython",
    "version": 3
   },
   "file_extension": ".py",
   "mimetype": "text/x-python",
   "name": "python",
   "nbconvert_exporter": "python",
   "pygments_lexer": "ipython3",
   "version": "3.8.10"
  }
 },
 "nbformat": 4,
 "nbformat_minor": 5
}
