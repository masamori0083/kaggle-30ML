{
 "cells": [
  {
   "cell_type": "code",
   "execution_count": null,
   "id": "599aff15-ec04-4ef8-b5bc-a2a8c44fe32c",
   "metadata": {},
   "outputs": [],
   "source": [
    "# target_encoding\n",
    "\n",
    "useful_features = [c for c in df.columns if c not in (\"id\", \"target\", \"kfold\")]\n",
    "object_cols = [col for col in useful_features if 'cat' in col]\n",
    "numerical_cols = [col for col in useful_features if col.startswith(\"cont\")]\n",
    "df_test = df_test[useful_features]\n",
    "\n",
    "# 各columns(catの英数字)毎にtargetの数値を平均して、特徴量に加える\n",
    "for col in object_cols:\n",
    "    temp_df = []\n",
    "    temp_test_feat = None\n",
    "    for fold in range(5):\n",
    "        xtrain =  df[df.kfold != fold].reset_index(drop=True)\n",
    "        xvalid = df[df.kfold == fold].reset_index(drop=True)\n",
    "\n",
    "        # col(A, Bなど)毎にtarget(目的変数)の平均を出す\n",
    "        feat = xtrain.groupby(col)[\"target\"].agg('mean')\n",
    "        feat = feat.to_dict()\n",
    "        \n",
    "        #xvalidにtargetの平均columを加える\n",
    "        xvalid.loc[:, f\"tar_enc_{col}\"] = xvalid[col].map(feat)\n",
    "        temp_df.append(xvalid)\n",
    "        \n",
    "        # 値がtemp_test_featに入っていたら、targetの平均値を加える\n",
    "        if temp_test_feat is None:\n",
    "            temp_test_feat = df_test[col].map(feat)\n",
    "        else:\n",
    "            temp_test_feat += df_test[col].map(feat)\n",
    "            \n",
    "    #5回繰り返したので、5で割る\n",
    "    temp_test_feat /= 5\n",
    "    df_test.loc[:, f\"tar_enc_{col}\"] = temp_test_feat\n",
    "    df = pd.concat(temp_df)"
   ]
  }
 ],
 "metadata": {
  "kernelspec": {
   "display_name": "Python 3",
   "language": "python",
   "name": "python3"
  },
  "language_info": {
   "codemirror_mode": {
    "name": "ipython",
    "version": 3
   },
   "file_extension": ".py",
   "mimetype": "text/x-python",
   "name": "python",
   "nbconvert_exporter": "python",
   "pygments_lexer": "ipython3",
   "version": "3.8.10"
  }
 },
 "nbformat": 4,
 "nbformat_minor": 5
}
